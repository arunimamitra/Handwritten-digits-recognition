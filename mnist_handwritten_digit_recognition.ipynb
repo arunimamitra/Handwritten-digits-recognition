{
  "nbformat": 4,
  "nbformat_minor": 0,
  "metadata": {
    "colab": {
      "provenance": []
    },
    "kernelspec": {
      "name": "python3",
      "display_name": "Python 3"
    },
    "language_info": {
      "name": "python"
    }
  },
  "cells": [
    {
      "cell_type": "code",
      "execution_count": 3,
      "metadata": {
        "colab": {
          "base_uri": "https://localhost:8080/"
        },
        "id": "X1D1Xf1l8r3N",
        "outputId": "27e1018a-066e-4c74-c8cb-dac955f84bde"
      },
      "outputs": [
        {
          "output_type": "stream",
          "name": "stdout",
          "text": [
            "Loading MNIST from Keras...\n",
            "Downloading data from https://storage.googleapis.com/tensorflow/tf-keras-datasets/mnist.npz\n",
            "\u001b[1m11490434/11490434\u001b[0m \u001b[32m━━━━━━━━━━━━━━━━━━━━\u001b[0m\u001b[37m\u001b[0m \u001b[1m0s\u001b[0m 0us/step\n",
            "Training Logistic Regression...\n"
          ]
        },
        {
          "output_type": "stream",
          "name": "stderr",
          "text": [
            "/usr/local/lib/python3.11/dist-packages/sklearn/linear_model/_logistic.py:1247: FutureWarning: 'multi_class' was deprecated in version 1.5 and will be removed in 1.7. From then on, it will always use 'multinomial'. Leave it to its default value to avoid this warning.\n",
            "  warnings.warn(\n"
          ]
        },
        {
          "output_type": "stream",
          "name": "stdout",
          "text": [
            "Saving model...\n",
            "Model saved as mnist_logreg.pkl\n"
          ]
        }
      ],
      "source": [
        "from tensorflow.keras.datasets import mnist\n",
        "from sklearn.linear_model import LogisticRegression\n",
        "import joblib\n",
        "\n",
        "print(\"Loading MNIST from Keras...\")\n",
        "(X_train, y_train), _ = mnist.load_data()\n",
        "\n",
        "# Flatten 28x28 -> 784\n",
        "X_train = X_train.reshape((X_train.shape[0], -1)).astype(\"float32\") / 255.0\n",
        "\n",
        "print(\"Training Logistic Regression...\")\n",
        "model = LogisticRegression(max_iter=1000, solver='lbfgs', multi_class='multinomial')\n",
        "model.fit(X_train, y_train)\n",
        "\n",
        "print(\"Saving model...\")\n",
        "joblib.dump(model, \"mnist_logreg.pkl\")\n",
        "print(\"Model saved as mnist_logreg.pkl\")"
      ]
    },
    {
      "cell_type": "code",
      "source": [
        "import numpy as np\n",
        "import gzip\n",
        "from sklearn.linear_model import LogisticRegression\n",
        "import joblib\n",
        "\n",
        "def load_images(filename):\n",
        "    with gzip.open(filename, 'rb') as f:\n",
        "        f.read(16)  # skip magic number & dimensions\n",
        "        data = np.frombuffer(f.read(), dtype=np.uint8)\n",
        "        data = data.reshape(-1, 28*28) / 255.0\n",
        "    return data\n",
        "\n",
        "def load_labels(filename):\n",
        "    with gzip.open(filename, 'rb') as f:\n",
        "        f.read(8)  # skip magic number & items\n",
        "        labels = np.frombuffer(f.read(), dtype=np.uint8)\n",
        "    return labels\n",
        "\n",
        "print(\"Loading MNIST from local .gz files...\")\n",
        "X_train = load_images(\"train-images-idx3-ubyte.gz\")\n",
        "y_train = load_labels(\"train-labels-idx1-ubyte.gz\")\n",
        "\n",
        "print(\"Training Logistic Regression...\")\n",
        "model = LogisticRegression(\n",
        "    max_iter=1000,\n",
        "    solver='lbfgs',\n",
        "    multi_class='multinomial',\n",
        "    verbose=1\n",
        ")\n",
        "model.fit(X_train, y_train)\n",
        "\n",
        "print(\"Saving model...\")\n",
        "joblib.dump(model, \"mnist_2.pkl\")\n",
        "print(\"✅ Model saved as mnist_2.pkl\")"
      ],
      "metadata": {
        "colab": {
          "base_uri": "https://localhost:8080/"
        },
        "id": "0qxUExt2_gDO",
        "outputId": "536c8f2b-fb28-441f-cc34-9f22833b8740"
      },
      "execution_count": 5,
      "outputs": [
        {
          "output_type": "stream",
          "name": "stdout",
          "text": [
            "Loading MNIST from local .gz files...\n",
            "Training Logistic Regression...\n"
          ]
        },
        {
          "output_type": "stream",
          "name": "stderr",
          "text": [
            "/usr/local/lib/python3.11/dist-packages/sklearn/linear_model/_logistic.py:1247: FutureWarning: 'multi_class' was deprecated in version 1.5 and will be removed in 1.7. From then on, it will always use 'multinomial'. Leave it to its default value to avoid this warning.\n",
            "  warnings.warn(\n"
          ]
        },
        {
          "output_type": "stream",
          "name": "stdout",
          "text": [
            "Saving model...\n",
            "✅ Model saved as mnist_2.pkl\n"
          ]
        },
        {
          "output_type": "stream",
          "name": "stderr",
          "text": [
            "[Parallel(n_jobs=1)]: Done   1 out of   1 | elapsed:  1.7min finished\n"
          ]
        }
      ]
    }
  ]
}